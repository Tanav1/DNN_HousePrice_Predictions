{
 "cells": [
  {
   "cell_type": "code",
   "execution_count": 1,
   "metadata": {},
   "outputs": [],
   "source": [
    "\n",
    "\n",
    "from sklearn.preprocessing import LabelEncoder\n",
    "from sklearn.preprocessing import MinMaxScaler\n",
    "from xgboost import XGBRegressor\n",
    "import matplotlib.pyplot as plt \n",
    "import seaborn as sns \n",
    "import pandas as pd \n",
    "import numpy as np\n"
   ]
  },
  {
   "cell_type": "code",
   "execution_count": 3,
   "metadata": {},
   "outputs": [
    {
     "name": "stdout",
     "output_type": "stream",
     "text": [
      "Train dataframe contains 5000 rows and 15 columns.\n",
      "\n",
      "Test dataframe contains 5000 rows and 14 columns.\n",
      "\n",
      "The merged dataframe contains 10000 rows and 14 columns.\n"
     ]
    }
   ],
   "source": [
    "\n",
    "train_data = pd.read_csv('Stat_380_train2021.csv', sep=',')\n",
    "test_data = pd.read_csv('Stat_380_test2021.csv', sep=',')\n",
    "\n",
    "# Concatenate the train and test dataframes so the preprocessing is applied to both \n",
    "full_data = pd.concat([train_data,test_data]).reset_index(drop = True)\n",
    "\n",
    "sale_price = train_data['SalePrice'].reset_index(drop=True)\n",
    "# Remove the Sale Price dependent variable from the combined dataset \n",
    "del full_data['SalePrice']\n",
    "\n",
    "print(f'Train dataframe contains {train_data.shape[0]} rows and {train_data.shape[1]} columns.\\n')\n",
    "print(f'Test dataframe contains {test_data.shape[0]} rows and {test_data.shape[1]} columns.\\n')\n",
    "print(f'The merged dataframe contains {full_data.shape[0]} rows and {full_data.shape[1]} columns.')\n"
   ]
  },
  {
   "cell_type": "code",
   "execution_count": 4,
   "metadata": {},
   "outputs": [
    {
     "name": "stdout",
     "output_type": "stream",
     "text": [
      "0 columns dropped, the full dataset now comprises of 14 variables.\n"
     ]
    }
   ],
   "source": [
    "\n",
    "cols_to_drop = []\n",
    "for column in full_data:\n",
    "  if full_data[column].isnull().sum() / len(full_data) >= 0.4:\n",
    "    cols_to_drop.append(column)\n",
    "full_data.drop(cols_to_drop, axis=1, inplace=True)\n",
    "\n",
    "print(f'{len(cols_to_drop)} columns dropped, the full dataset now comprises of {full_data.shape[1]} variables.')\n",
    "\n",
    "scaler = MinMaxScaler()\n",
    "\n",
    "columns = full_data.columns.values\n",
    "for column in columns:\n",
    "  if full_data[column].dtype == np.int64 or full_data[column].dtype == np.float64:\n",
    "    full_data[column] = full_data[column].fillna(full_data[column].median())\n",
    "    full_data[column] = scaler.fit_transform(np.array(full_data[column]).reshape(-1,1)) #reshape data for model fit\n",
    "\n"
   ]
  },
  {
   "cell_type": "code",
   "execution_count": 5,
   "metadata": {},
   "outputs": [
    {
     "data": {
      "text/html": [
       "<div>\n",
       "<style scoped>\n",
       "    .dataframe tbody tr th:only-of-type {\n",
       "        vertical-align: middle;\n",
       "    }\n",
       "\n",
       "    .dataframe tbody tr th {\n",
       "        vertical-align: top;\n",
       "    }\n",
       "\n",
       "    .dataframe thead th {\n",
       "        text-align: right;\n",
       "    }\n",
       "</style>\n",
       "<table border=\"1\" class=\"dataframe\">\n",
       "  <thead>\n",
       "    <tr style=\"text-align: right;\">\n",
       "      <th></th>\n",
       "      <th>Id</th>\n",
       "      <th>LotFrontage</th>\n",
       "      <th>LotArea</th>\n",
       "      <th>OverallQual</th>\n",
       "      <th>OverallCond</th>\n",
       "      <th>FullBath</th>\n",
       "      <th>HalfBath</th>\n",
       "      <th>TotRmsAbvGrd</th>\n",
       "      <th>YearBuilt</th>\n",
       "      <th>TotalBsmtSF</th>\n",
       "      <th>BedroomAbvGr</th>\n",
       "      <th>GrLivArea</th>\n",
       "      <th>PoolArea</th>\n",
       "      <th>YrSold</th>\n",
       "    </tr>\n",
       "  </thead>\n",
       "  <tbody>\n",
       "    <tr>\n",
       "      <th>0</th>\n",
       "      <td>0.0000</td>\n",
       "      <td>0.167808</td>\n",
       "      <td>0.066737</td>\n",
       "      <td>0.333333</td>\n",
       "      <td>0.625</td>\n",
       "      <td>0.333333</td>\n",
       "      <td>0.0</td>\n",
       "      <td>0.250000</td>\n",
       "      <td>0.707692</td>\n",
       "      <td>0.450405</td>\n",
       "      <td>0.375</td>\n",
       "      <td>0.135882</td>\n",
       "      <td>0.0</td>\n",
       "      <td>1.00</td>\n",
       "    </tr>\n",
       "    <tr>\n",
       "      <th>1</th>\n",
       "      <td>0.0002</td>\n",
       "      <td>0.219178</td>\n",
       "      <td>0.036383</td>\n",
       "      <td>0.444444</td>\n",
       "      <td>0.750</td>\n",
       "      <td>0.333333</td>\n",
       "      <td>0.0</td>\n",
       "      <td>0.166667</td>\n",
       "      <td>0.600000</td>\n",
       "      <td>0.334685</td>\n",
       "      <td>0.375</td>\n",
       "      <td>0.186550</td>\n",
       "      <td>0.0</td>\n",
       "      <td>1.00</td>\n",
       "    </tr>\n",
       "    <tr>\n",
       "      <th>2</th>\n",
       "      <td>0.0004</td>\n",
       "      <td>0.167808</td>\n",
       "      <td>0.051611</td>\n",
       "      <td>0.333333</td>\n",
       "      <td>0.625</td>\n",
       "      <td>0.666667</td>\n",
       "      <td>0.0</td>\n",
       "      <td>0.250000</td>\n",
       "      <td>0.953846</td>\n",
       "      <td>0.329382</td>\n",
       "      <td>0.375</td>\n",
       "      <td>0.167895</td>\n",
       "      <td>0.0</td>\n",
       "      <td>0.50</td>\n",
       "    </tr>\n",
       "    <tr>\n",
       "      <th>3</th>\n",
       "      <td>0.0006</td>\n",
       "      <td>0.195205</td>\n",
       "      <td>0.034392</td>\n",
       "      <td>0.333333</td>\n",
       "      <td>0.500</td>\n",
       "      <td>0.333333</td>\n",
       "      <td>0.0</td>\n",
       "      <td>0.416667</td>\n",
       "      <td>0.961538</td>\n",
       "      <td>0.356207</td>\n",
       "      <td>0.500</td>\n",
       "      <td>0.276601</td>\n",
       "      <td>0.0</td>\n",
       "      <td>0.25</td>\n",
       "    </tr>\n",
       "    <tr>\n",
       "      <th>4</th>\n",
       "      <td>0.0008</td>\n",
       "      <td>0.157534</td>\n",
       "      <td>0.033195</td>\n",
       "      <td>0.444444</td>\n",
       "      <td>0.875</td>\n",
       "      <td>0.333333</td>\n",
       "      <td>0.0</td>\n",
       "      <td>0.500000</td>\n",
       "      <td>0.969231</td>\n",
       "      <td>0.438553</td>\n",
       "      <td>0.375</td>\n",
       "      <td>0.303547</td>\n",
       "      <td>0.0</td>\n",
       "      <td>0.00</td>\n",
       "    </tr>\n",
       "  </tbody>\n",
       "</table>\n",
       "</div>"
      ],
      "text/plain": [
       "       Id  LotFrontage   LotArea  OverallQual  OverallCond  FullBath  \\\n",
       "0  0.0000     0.167808  0.066737     0.333333        0.625  0.333333   \n",
       "1  0.0002     0.219178  0.036383     0.444444        0.750  0.333333   \n",
       "2  0.0004     0.167808  0.051611     0.333333        0.625  0.666667   \n",
       "3  0.0006     0.195205  0.034392     0.333333        0.500  0.333333   \n",
       "4  0.0008     0.157534  0.033195     0.444444        0.875  0.333333   \n",
       "\n",
       "   HalfBath  TotRmsAbvGrd  YearBuilt  TotalBsmtSF  BedroomAbvGr  GrLivArea  \\\n",
       "0       0.0      0.250000   0.707692     0.450405         0.375   0.135882   \n",
       "1       0.0      0.166667   0.600000     0.334685         0.375   0.186550   \n",
       "2       0.0      0.250000   0.953846     0.329382         0.375   0.167895   \n",
       "3       0.0      0.416667   0.961538     0.356207         0.500   0.276601   \n",
       "4       0.0      0.500000   0.969231     0.438553         0.375   0.303547   \n",
       "\n",
       "   PoolArea  YrSold  \n",
       "0       0.0    1.00  \n",
       "1       0.0    1.00  \n",
       "2       0.0    0.50  \n",
       "3       0.0    0.25  \n",
       "4       0.0    0.00  "
      ]
     },
     "execution_count": 5,
     "metadata": {},
     "output_type": "execute_result"
    }
   ],
   "source": [
    "# Print the updated data  \n",
    "full_data.head()\n"
   ]
  },
  {
   "cell_type": "code",
   "execution_count": 6,
   "metadata": {},
   "outputs": [
    {
     "name": "stdout",
     "output_type": "stream",
     "text": [
      "9 columns dropped, the full dataset now comprises of 5 variables.\n",
      "0 columns dropped, the full dataset now comprises of 5 variables.\n"
     ]
    },
    {
     "data": {
      "image/png": "[encoded data removed]",
      "text/plain": [
       "<Figure size 1368x720 with 2 Axes>"
      ]
     },
     "metadata": {
      "needs_background": "light"
     },
     "output_type": "display_data"
    }
   ],
   "source": [
    "\n",
    "corr = train_data.corr()\n",
    "plt.subplots(figsize=(19,10))\n",
    "cmap = sns.diverging_palette(230, 20, as_cmap=True)\n",
    "sns.heatmap(corr, vmax=0.7, cmap = cmap, square=True)\n",
    "\n",
    "cols_to_drop = []\n",
    "# Get the correlation of the dependent variable with the rest of the features\n",
    "sale_price_corr = train_data.corr()['SalePrice'][:-1] \n",
    "\n",
    "# Drop all the columns from the full data that correlate < |0.12| with the sale price, \n",
    "# since will add little value to the model \n",
    "for column,row in sale_price_corr.iteritems():\n",
    "  if abs(float(row)) < 0.12:\n",
    "    cols_to_drop.append(column)\n",
    "full_data.drop(cols_to_drop, axis=1, inplace=True)\n",
    "\n",
    "print(f'{len(cols_to_drop)} columns dropped, the full dataset now comprises of {full_data.shape[1]} variables.')\n",
    "\n",
    "count = 0 \n",
    "columns = full_data.columns.values\n",
    "for column in columns:\n",
    "  if full_data[column].dtype not in (np.int64, np.float64) and full_data[column].nunique() > 6:\n",
    "    count += 1 \n",
    "    full_data.drop(column, axis = 1, inplace = True)\n",
    "\n",
    "print(f'{count} columns dropped, the full dataset now comprises of {full_data.shape[1]} variables.')\n"
   ]
  },
  {
   "cell_type": "code",
   "execution_count": 9,
   "metadata": {},
   "outputs": [
    {
     "name": "stdout",
     "output_type": "stream",
     "text": [
      "The new dataframe comprises of 5000 rows and 14 columns.\n",
      "\n"
     ]
    }
   ],
   "source": [
    "\n",
    "full_data = full_data.fillna(full_data.mode().iloc[0])\n",
    "\n",
    "labelencoder = LabelEncoder()\n",
    "cols_to_drop = []\n",
    "\n",
    "columns = full_data.columns.values\n",
    "for column in columns:\n",
    "    if full_data[column].dtype not in (np.int64, np.float64) and full_data[column].nunique() > 2: \n",
    "      dummies = pd.get_dummies(full_data[column], prefix = str(column))\n",
    "      cols_to_drop.append(column)\n",
    "      full_data = pd.concat([full_data, dummies], axis = 1)\n",
    "    elif full_data[column].dtype not in (np.int64, np.float64) and full_data[column].nunique() < 3: \n",
    "      full_data[column] = labelencoder.fit_transform(full_data[column])\n",
    "      cols_to_drop.append(column)\n",
    "\n",
    "full_data.drop(cols_to_drop, axis = 1, inplace = True)\n",
    "print(f'The new dataframe comprises of {test_data.shape[0]} rows and {test_data.shape[1]} columns.\\n')\n",
    "\n",
    "train_df = full_data[:train_data.shape[0]]\n",
    "test_df =  full_data[train_data.shape[0]:]\n",
    "\n",
    "import tensorflow as tf\n",
    "#Set random seed\n",
    "tf.random.set_seed(42)\n",
    "\n",
    "model = tf.keras.Sequential([\n",
    "                            tf.keras.layers.Dense(1000), \n",
    "                            tf.keras.layers.BatchNormalization(), \n",
    "                            tf.keras.layers.Dense(100), \n",
    "                            tf.keras.layers.Dense(100),\n",
    "                            tf.keras.layers.Dropout(0.1), \n",
    "                            tf.keras.layers.Dense(1) \n",
    "])\n",
    "\n",
    "# Compile the model\n"
   ]
  },
  {
   "cell_type": "code",
   "execution_count": 10,
   "metadata": {},
   "outputs": [
    {
     "data": {
      "image/png": "[encoded data removed]",
      "text/plain": [
       "<Figure size 432x288 with 1 Axes>"
      ]
     },
     "metadata": {
      "needs_background": "light"
     },
     "output_type": "display_data"
    }
   ],
   "source": [
    "model.compile(loss=tf.keras.losses.mae,\n",
    "                          optimizer=tf.keras.optimizers.Adam(learning_rate = 0.0003), \n",
    "                          metrics=['mae'])\n",
    "\n",
    "# Fit the model and save the history \n",
    "history = model.fit(train_df,sale_price, epochs=400, verbose=0)\n",
    "\n",
    "# Plot the model trained for 400 total epochs loss curves\n",
    "pd.DataFrame(history.history).plot()\n",
    "plt.ylabel(\"loss\")\n",
    "plt.xlabel(\"epochs\")\n",
    "plt.show()\n"
   ]
  },
  {
   "cell_type": "code",
   "execution_count": 11,
   "metadata": {},
   "outputs": [
    {
     "name": "stdout",
     "output_type": "stream",
     "text": [
      "Training accuracy: 98.88%\n"
     ]
    }
   ],
   "source": [
    "\n",
    "DNN_predictions = model.predict(test_df)\n",
    "DNN_predictions = tf.squeeze(DNN_predictions, axis = 1)\n",
    "DNN_predictions = np.array(DNN_predictions)\n",
    "DNN_predictions\n",
    "\n",
    "from xgboost import XGBRegressor\n",
    "\n",
    "xgboost = XGBRegressor(learning_rate=0.008,\n",
    "                       n_estimators=6000,\n",
    "                       max_depth=8,\n",
    "                       min_child_weight=0,\n",
    "                       gamma=0.6,\n",
    "                       subsample=0.7,\n",
    "                       colsample_bytree=0.7,\n",
    "                       objective='reg:squarederror',\n",
    "                       nthread=-1,\n",
    "                       scale_pos_weight=1,\n",
    "                       seed=27,\n",
    "                       reg_alpha=0.00006,\n",
    "                       random_state=42)\n",
    "\n",
    "xgb = xgboost.fit(train_df,sale_price)\n",
    "training_accuracy = xgb.score(train_df,sale_price)\n",
    "print(\"Training accuracy: %.2f%%\" % (training_accuracy * 100.0))\n",
    "xgb_predictions = xgb.predict(test_df)\n",
    "\n"
   ]
  },
  {
   "cell_type": "code",
   "execution_count": null,
   "metadata": {},
   "outputs": [],
   "source": [
    "#Export\n",
    "\n",
    "predictions = [(xgb_pred + DNN_pred) / 2 for xgb_pred, DNN_pred in zip(xgb_predictions, DNN_predictions)]\n",
    "submission = pd.DataFrame({'ID':test_data['Id'],'SalePrice':predictions})\n",
    "submission.to_csv('submission.csv',index = False)\n",
    "submission"
   ]
  }
 ],
 "metadata": {
  "kernelspec": {
   "display_name": "Python 3",
   "language": "python",
   "name": "python3"
  },
  "language_info": {
   "codemirror_mode": {
    "name": "ipython",
    "version": 3
   },
   "file_extension": ".py",
   "mimetype": "text/x-python",
   "name": "python",
   "nbconvert_exporter": "python",
   "pygments_lexer": "ipython3",
   "version": "3.8.5"
  }
 },
 "nbformat": 4,
 "nbformat_minor": 4
}
